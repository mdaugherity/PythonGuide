{
  "nbformat": 4,
  "nbformat_minor": 0,
  "metadata": {
    "colab": {
      "provenance": [],
      "authorship_tag": "ABX9TyO4aznd1N8IvFoGCMYyF3la",
      "include_colab_link": true
    },
    "kernelspec": {
      "name": "python3",
      "display_name": "Python 3"
    },
    "language_info": {
      "name": "python"
    }
  },
  "cells": [
    {
      "cell_type": "markdown",
      "metadata": {
        "id": "view-in-github",
        "colab_type": "text"
      },
      "source": [
        "<a href=\"https://colab.research.google.com/github/mdaugherity/PythonGuide/blob/DrDs-Fun-Test-Branch/test/playground.ipynb\" target=\"_parent\"><img src=\"https://colab.research.google.com/assets/colab-badge.svg\" alt=\"Open In Colab\"/></a>"
      ]
    },
    {
      "cell_type": "markdown",
      "source": [
        "This is a place for playing with github.  This file will be deleted later.  "
      ],
      "metadata": {
        "id": "_XcFM4ZwTRNn"
      }
    },
    {
      "cell_type": "markdown",
      "source": [
        "This is Dr D's fun test branch!"
      ],
      "metadata": {
        "id": "oJTbpQM5raFH"
      }
    },
    {
      "cell_type": "code",
      "execution_count": null,
      "metadata": {
        "id": "vc0JwlzaTO3o"
      },
      "outputs": [],
      "source": [
        "x = 2"
      ]
    }
  ]
}