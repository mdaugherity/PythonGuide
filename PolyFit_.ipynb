{
  "nbformat": 4,
  "nbformat_minor": 0,
  "metadata": {
    "colab": {
      "private_outputs": true,
      "provenance": [],
      "include_colab_link": true
    },
    "kernelspec": {
      "name": "python3",
      "display_name": "Python 3"
    },
    "language_info": {
      "name": "python"
    }
  },
  "cells": [
    {
      "cell_type": "markdown",
      "metadata": {
        "id": "view-in-github",
        "colab_type": "text"
      },
      "source": [
        "<a href=\"https://colab.research.google.com/github/mdaugherity/PythonGuide/blob/PolyFit/PolyFit_.ipynb\" target=\"_parent\"><img src=\"https://colab.research.google.com/assets/colab-badge.svg\" alt=\"Open In Colab\"/></a>"
      ]
    },
    {
      "cell_type": "code",
      "execution_count": null,
      "metadata": {
        "id": "o4dq7N7zwZGy"
      },
      "outputs": [],
      "source": [
        "import numpy as np\n",
        "import matplotlib.pyplot as plt"
      ]
    },
    {
      "cell_type": "markdown",
      "source": [
        "# How to use the PolyFit function in Python\n",
        "*Polyfit is a tool from the Numpy library that uses polynomial fitting to fit data to a returned function.*\n",
        "\n",
        "\n",
        "\n"
      ],
      "metadata": {
        "id": "V4xlfIqNQXMf"
      }
    },
    {
      "cell_type": "markdown",
      "source": [
        "# Quick Copy-and-Paste Example"
      ],
      "metadata": {
        "id": "3nPbPK-1Q6Lw"
      }
    },
    {
      "cell_type": "code",
      "source": [
        "ydata = np.array([y1, y2, y3, y4])\n",
        "xdata = np.array([x1, x2, x3, x4])\n",
        "\n",
        "p = np.polyfit(xdata, ydata, 3)\n",
        "\n",
        "#Set up for the plot\n",
        "x = np.linspace(0, 7)\n",
        "y = np.polyval(p, x)\n",
        "\n",
        "plt.plot(xdata, ydata, 'gs')\n",
        "plt.plot(x, y, 'g--')\n",
        "plt.show()"
      ],
      "metadata": {
        "id": "U39lZAe6Xear"
      },
      "execution_count": null,
      "outputs": []
    },
    {
      "cell_type": "markdown",
      "source": [
        "# Method\n",
        "*How is the answer calculated?\n",
        "This section explains how the magical black boxes work that we will be using.*\n",
        "\n",
        "**Background**:\n",
        "The Polyfit function in numpy is based on mathematical method of polynomial fitting. The most basic form of a polynomial function is described as,\n",
        "\n",
        "$ y = ax^n + bx^{n-1} +...+ cx + d $\n",
        "\n",
        "This method is used to find the best fit curve for a set of data points, you can use a variety of polynomials or methods to find the best fit for a curve.\n",
        "\n",
        "\n",
        "\n",
        "**Mathematical Solution**:\n",
        "\n",
        "Polyfit most commonly uses the method of least squares, where the computer solves by deriving the equation above according to the degree of polynomial you ask it to solve.\n",
        "\n",
        "\n",
        "**Algorithm**:\n",
        "The algorithm used by polyfit first creates a matrix with the variables inputted.\n",
        "The data is weighted determined on whether the data is noise or reliable. A new martrix is constructed after evaluating polyfit. (Using polyval function outputs the data from the updated dependent variables).\n",
        "\n",
        "\n"
      ],
      "metadata": {
        "id": "hnbc_uPkQ_S2"
      }
    },
    {
      "cell_type": "markdown",
      "source": [
        "# Implementation\n",
        "The most useful way to use this function is to evaluate numerical data with it! The Polyfit function is within the Numpy library so, youll need to import numpy before you can call the function.\n",
        "\n",
        "Another useful tool you should include in your code is the matplotlib.pyplot library. We will talk about why you should need his tool later in the lesson.\n",
        "\n",
        "\n",
        "The link below goes the the Numpy library Polyfit Function\n",
        "\n",
        "https://numpy.org/doc/stable/reference/generated/numpy.polyfit.html\n",
        "\n",
        "The link below goes to the Matplotlib library pyplot function\n",
        "\n",
        "https://matplotlib.org/3.5.3/api/_as_gen/matplotlib.pyplot.html"
      ],
      "metadata": {
        "id": "PLwysZqbRScC"
      }
    },
    {
      "cell_type": "markdown",
      "source": [
        "# Examples"
      ],
      "metadata": {
        "id": "eRYJmFKQRc0J"
      }
    },
    {
      "cell_type": "markdown",
      "source": [
        "## Example 1 -\n",
        "This example data is selected from random dependent ydata.\n",
        "\n",
        "Notice the loop in the code, this is to show the changes that are made when increasing the polynomial degree.\n",
        "With increasing the degree, the front and back end of the line become more \"curvy\".\n",
        "\n",
        "As you can see the sixth degree fits the data best,\n",
        "it takes a few tries to get the data fit best but too high of the degree and the curve will start to become too curvy and the data will not be reliable. Once you get to the ninth degree the curve becomes unreliable to use."
      ],
      "metadata": {
        "id": "zFcnn1NdFc31"
      }
    },
    {
      "cell_type": "code",
      "source": [
        "xdata = np.array([1, 2, 3, 4, 5, 6, 7, 8, 9, 10])\n",
        "ydata = np.array([3, 6, 9, 7, 5, 2, 4, 6, 10, 16])\n",
        "\n",
        "for i in range(9):\n",
        "\n",
        "  p = np.polyfit(xdata, ydata, (i+1))\n",
        "  print(p)\n",
        "  print(\"above are the points to where the polynomial is plotted\")\n",
        "  print('degree of polynomial: ',i+1)\n",
        "\n",
        "  x = np.linspace(0, 11, 100)\n",
        "  y = np.polyval(p, x)\n",
        "\n",
        "  plt.plot(xdata, ydata, 'gs')\n",
        "  plt.plot(x, y, 'g--')\n",
        "  plt.show()"
      ],
      "metadata": {
        "id": "8tZwBL5fKaGj"
      },
      "execution_count": null,
      "outputs": []
    },
    {
      "cell_type": "markdown",
      "source": [
        "## Example 2 -\n",
        "Here is another example of possibly more realistic data that you may see out in the field. As you can see, the polyfit function can find a function that closely represents the data.\n"
      ],
      "metadata": {
        "id": "LYm7VqxlFkX0"
      }
    },
    {
      "cell_type": "code",
      "source": [
        "%reset -f\n",
        "\n",
        "import numpy as np\n",
        "import matplotlib.pyplot as plt\n",
        "\n",
        "xdata = np.array([ 0, 0.78947368,  1.57894737,  2.36842105,  3.15789474,  3.94736842,\n",
        "  4.73684211,  5.52631579,  6.31578947,  7.10526316,  7.89473684,  8.68421053,\n",
        "  9.47368421, 10.26315789, 11.05263158, 11.84210526, 12.63157895, 13.42105263,\n",
        "  14.21052632, 15])\n",
        "\n",
        "ydata = np.array([-0.04100663, -0.00262464, -0.20209465,  0.201888,   -0.07291151,  0.1718507,\n",
        "  0.57730352,  0.80378094,  1.29344409,  1.71386377,  2.04709596,  2.11055532,\n",
        "  1.52464179,  0.93975604,  0.67621356,  0.25552909,  0.1346538,   0.16814197,\n",
        " -0.05871756,  0.00526594])\n",
        "\n",
        "p = np.polyfit(xdata, ydata, 11)\n",
        "\n",
        "x = np.linspace(0, 15)\n",
        "y = np.polyval(p, x)\n",
        "\n",
        "\n",
        "plt.plot(xdata, ydata, 'bo')\n",
        "plt.plot(x, y, 'r-')\n",
        "plt.legend(['data', 'fit'])\n",
        "plt.show()"
      ],
      "metadata": {
        "id": "9kQyLjpzFjxm"
      },
      "execution_count": null,
      "outputs": []
    },
    {
      "cell_type": "markdown",
      "source": [
        "# Common Errors\n",
        "\n",
        "Some common errors in relation to Polyfit would include,\n"
      ],
      "metadata": {
        "id": "URiYECnSRgDQ"
      }
    },
    {
      "cell_type": "markdown",
      "source": [
        "#### Value Error\n",
        "* This error is pretty easy to catch,\n",
        "\n",
        "```\n",
        "TypeError: expected x and y to have same length\n",
        "\n",
        "```\n",
        "\n",
        "To fix this, ensure that your inputted data have the same length.\n",
        "In this case, either get rid of the 11 on the xdata or add another point to ydata."
      ],
      "metadata": {
        "id": "dmvJsIghtupS"
      }
    },
    {
      "cell_type": "code",
      "source": [
        "#Value Error\n",
        "\n",
        "%reset -f\n",
        "import numpy as np\n",
        "import matplotlib.pyplot as plt\n",
        "\n",
        "theta = np.linspace(0, 2*np.pi, 10)\n",
        "c = np.cos(theta)\n",
        "print(c)\n",
        "xdata = np.array([1, 2, 3, 4, 5, 6, 7, 8, 9, 10, 11])\n",
        "ydata = c\n",
        "\n",
        "p = np.polyfit(xdata, ydata, 4)\n",
        "x = np.linspace(0, 10)\n",
        "y = np.polyval(p, x)\n",
        "\n",
        "plt.plot(xdata, ydata, 'bo')\n",
        "plt.plot(x, y, 'r-')\n",
        "plt.legend(['data', 'fit'])\n",
        "plt.show()"
      ],
      "metadata": {
        "id": "CY11jnXBRbUQ"
      },
      "execution_count": null,
      "outputs": []
    },
    {
      "cell_type": "markdown",
      "source": [
        "## Not a good fit\n",
        "\n",
        "This is not much of an error but it is something to keep in mind.\n",
        "Since polyfit only uses the least squares evaluation, it cannot solve with certain types of data.\n",
        "\n",
        "The x and y data I used was random and it did not have any relative structure. The polyfit function does not really know what to do and tries it's best to find a solution. Its best to also have a plot alongside your solution to check a good fit."
      ],
      "metadata": {
        "id": "AEOEu5cg7Hco"
      }
    },
    {
      "cell_type": "code",
      "source": [
        "#polyfit data\n",
        "%reset -f\n",
        "import numpy as np\n",
        "import matplotlib.pyplot as plt\n",
        "import random\n",
        "\n",
        "xrandom_list = [random.randint(0, 10) for _ in range(10)]\n",
        "yrandom_list = [random.randint(0, 10) for _ in range(10)]\n",
        "\n",
        "xdata = np.array(xrandom_list)\n",
        "ydata = np.array(yrandom_list)\n",
        "\n",
        "p = np.polyfit(xdata, ydata, 4)\n",
        "x = np.linspace(0, 10)\n",
        "y = np.polyval(p, x)\n",
        "\n",
        "plt.plot(xdata, ydata, 'bo')\n",
        "plt.plot(x, y, 'r-')\n",
        "plt.legend(['data', 'fit'])\n",
        "plt.show()\n",
        "\n"
      ],
      "metadata": {
        "id": "dWG7_Pw5mg2j"
      },
      "execution_count": null,
      "outputs": []
    },
    {
      "cell_type": "markdown",
      "source": [
        "# Links\n",
        "\n",
        "##### Method of Least Squares Wiki\n",
        "https://en.wikipedia.org/wiki/Least_squares\n",
        "\n",
        "##### Postcard Professor Linear Least Squares\n",
        "https://www.youtube.com/watch?v=pKAPgUb4vL8\n",
        "\n",
        "\n",
        "\n",
        "\n"
      ],
      "metadata": {
        "id": "LaEu1w5OJoiy"
      }
    }
  ]
}