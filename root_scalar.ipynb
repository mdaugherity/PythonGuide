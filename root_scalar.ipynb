{
  "nbformat": 4,
  "nbformat_minor": 0,
  "metadata": {
    "colab": {
      "provenance": [],
      "toc_visible": true,
      "include_colab_link": true
    },
    "kernelspec": {
      "name": "python3",
      "display_name": "Python 3"
    },
    "language_info": {
      "name": "python"
    }
  },
  "cells": [
    {
      "cell_type": "markdown",
      "metadata": {
        "id": "view-in-github",
        "colab_type": "text"
      },
      "source": [
        "<a href=\"https://colab.research.google.com/github/mdaugherity/PythonGuide/blob/master/root_scalar.ipynb\" target=\"_parent\"><img src=\"https://colab.research.google.com/assets/colab-badge.svg\" alt=\"Open In Colab\"/></a>"
      ]
    },
    {
      "cell_type": "markdown",
      "source": [
        "**Guide Template v0**"
      ],
      "metadata": {
        "id": "kWAH7Gl9QNLn"
      }
    },
    {
      "cell_type": "markdown",
      "source": [
        "# Short Problem Statement\n",
        "What does this do?  What problems is it for?  \n",
        "(Links to related things)\n",
        "\n"
      ],
      "metadata": {
        "id": "V4xlfIqNQXMf"
      }
    },
    {
      "cell_type": "markdown",
      "source": [
        "# Quick Copy-and-Paste Example"
      ],
      "metadata": {
        "id": "3nPbPK-1Q6Lw"
      }
    },
    {
      "cell_type": "code",
      "source": [
        "import numpy as np\n",
        "import matplotlib.pyplot as plt"
      ],
      "metadata": {
        "id": "W50Yg36wH3kl"
      },
      "execution_count": 1,
      "outputs": []
    },
    {
      "cell_type": "code",
      "source": [
        "def f(x):\n",
        "  return x**2 - 4\n",
        "\n",
        "x = np.linspace(-4,4)\n",
        "plt.axhline(0,color='k')\n",
        "plt.plot(x,f(x))\n",
        "plt.grid()"
      ],
      "metadata": {
        "id": "J1WX2DX6H77U",
        "colab": {
          "base_uri": "https://localhost:8080/",
          "height": 430
        },
        "outputId": "39a58126-c3c7-4778-9c79-6d67a0bc1e3b"
      },
      "execution_count": 2,
      "outputs": [
        {
          "output_type": "display_data",
          "data": {
            "text/plain": [
              "<Figure size 640x480 with 1 Axes>"
            ],
            "image/png": "[encoded data removed]"
          },
          "metadata": {}
        }
      ]
    },
    {
      "cell_type": "code",
      "source": [
        "from scipy.optimize import root_scalar\n",
        "root_scalar(f, bracket=[0, 10])"
      ],
      "metadata": {
        "colab": {
          "base_uri": "https://localhost:8080/"
        },
        "id": "uXTPMLccwNPT",
        "outputId": "22873c47-d3c3-4e42-f998-40c7e54d6ddd"
      },
      "execution_count": 4,
      "outputs": [
        {
          "output_type": "execute_result",
          "data": {
            "text/plain": [
              "      converged: True\n",
              "           flag: converged\n",
              " function_calls: 12\n",
              "     iterations: 11\n",
              "           root: 2.0\n",
              "         method: brentq"
            ]
          },
          "metadata": {},
          "execution_count": 4
        }
      ]
    },
    {
      "cell_type": "code",
      "source": [
        "sol = root_scalar(f, bracket=[0, 10] )    # use brackets\n",
        "x = sol.root  # the root\n",
        "print(x)"
      ],
      "metadata": {
        "colab": {
          "base_uri": "https://localhost:8080/"
        },
        "id": "4Dzh9WYNwQxz",
        "outputId": "a9475388-231d-47fe-eb4b-3431eeb5eedb"
      },
      "execution_count": 5,
      "outputs": [
        {
          "output_type": "stream",
          "name": "stdout",
          "text": [
            "2.0\n"
          ]
        }
      ]
    },
    {
      "cell_type": "markdown",
      "source": [
        "# Method\n",
        "How is the answer calculated?\n",
        "\n",
        "How is the answer calculated? The function, root_scalar can use a variety of methods to find the root depending on the information you give it.\n",
        "\n",
        "There are three primary methods that root scalar can use.\n",
        "\n",
        "The first of these is the bisection method. The bracket method requires a left and right bound and will test points at and between those bounds for a root. To properly use this method, you should first plot the function in order to find the general area your root lies in. From here, input a bracket that contains the root your looking for. Root_scalar has several types of bisection methods that work in slightly different ways. The default is \"brentq.\" The upside of this method is that the answer will always converge if the brackets are chosen at opposite signs\n",
        "\n",
        "The second method is Newton's method. Newton's method requires the input of the function and the derivative at a single point. From here it will decend downwards or ascend upwards untill it finds a root. This type of method does not require knowing where the root is. However, this method fails if the derivative ever equals zero, so it cannot \"go over hills\" or \"pass through valleys.\"\n",
        "\n",
        "The third method is the secant method. This method is a variation of Newton's method. It requires two initial guesses and will calculate the slope between those points to generate the next guess. Having access to the derivative is not always available, so this method effectively generates that for you. When you use this, you can always make the second guess just slightly off the first guess to generate a \"slope.\" Overall this is an easier version of Newton's method to use.\n",
        "\n",
        "## Background\n",
        "Optional section for math tools\n",
        "\n",
        "## Mathematical Solution\n",
        "Formal solution\n",
        "\n",
        "## Algorithm\n",
        "How is the formal solution implemented?\n"
      ],
      "metadata": {
        "id": "hnbc_uPkQ_S2"
      }
    },
    {
      "cell_type": "markdown",
      "source": [
        "# Implementation\n",
        "Show the functions we need, what the parameters are, and how to use them.  Give links to documentation.\n"
      ],
      "metadata": {
        "id": "PLwysZqbRScC"
      }
    },
    {
      "cell_type": "markdown",
      "source": [
        "# Examples - Several"
      ],
      "metadata": {
        "id": "eRYJmFKQRc0J"
      }
    },
    {
      "cell_type": "code",
      "source": [],
      "metadata": {
        "id": "8tZwBL5fKaGj"
      },
      "execution_count": null,
      "outputs": []
    },
    {
      "cell_type": "markdown",
      "source": [
        "# Common Errors\n",
        "And how to fix them"
      ],
      "metadata": {
        "id": "URiYECnSRgDQ"
      }
    },
    {
      "cell_type": "code",
      "source": [],
      "metadata": {
        "id": "CY11jnXBRbUQ"
      },
      "execution_count": null,
      "outputs": []
    },
    {
      "cell_type": "markdown",
      "source": [
        "# Links\n",
        "Include links to more references like youtube, class github pages, wikipedia, etc.\n",
        "\n",
        "\n"
      ],
      "metadata": {
        "id": "LaEu1w5OJoiy"
      }
    }
  ]
}