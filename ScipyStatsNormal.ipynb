{
  "nbformat": 4,
  "nbformat_minor": 0,
  "metadata": {
    "colab": {
      "provenance": [],
      "authorship_tag": "ABX9TyP8+CbtpfyLd8EF964qnI6L",
      "include_colab_link": true
    },
    "kernelspec": {
      "name": "python3",
      "display_name": "Python 3"
    },
    "language_info": {
      "name": "python"
    }
  },
  "cells": [
    {
      "cell_type": "markdown",
      "metadata": {
        "id": "view-in-github",
        "colab_type": "text"
      },
      "source": [
        "<a href=\"https://colab.research.google.com/github/mdaugherity/PythonGuide/blob/Scipy-Stats---Phoebe's-Brainrot/ScipyStatsNormal.ipynb\" target=\"_parent\"><img src=\"https://colab.research.google.com/assets/colab-badge.svg\" alt=\"Open In Colab\"/></a>"
      ]
    },
    {
      "cell_type": "markdown",
      "source": [
        "Notes\n",
        "\n",
        "\n",
        "\n",
        "*   loc is mean\n",
        "*   scale is sd\n",
        "\n",
        "\n"
      ],
      "metadata": {
        "id": "JGuInQYr2OgM"
      }
    },
    {
      "cell_type": "markdown",
      "source": [
        "# **SciPy Stats - Normal**"
      ],
      "metadata": {
        "id": "kWAH7Gl9QNLn"
      }
    },
    {
      "cell_type": "markdown",
      "source": [
        "# Short Problem Statement\n",
        "Using Statistical Methods in SciPy using Gaussian method as an example\n",
        "\n"
      ],
      "metadata": {
        "id": "V4xlfIqNQXMf"
      }
    },
    {
      "cell_type": "markdown",
      "source": [
        "# Quick Copy-and-Paste Example"
      ],
      "metadata": {
        "id": "3nPbPK-1Q6Lw"
      }
    },
    {
      "cell_type": "code",
      "execution_count": null,
      "metadata": {
        "id": "pJfobxlQwg8J"
      },
      "outputs": [],
      "source": [
        "import numpy as np\n",
        "from scipy.stats import norm\n",
        "import matplotlib.pyplot as plt"
      ]
    },
    {
      "cell_type": "code",
      "source": [],
      "metadata": {
        "id": "J1WX2DX6H77U"
      },
      "execution_count": null,
      "outputs": []
    },
    {
      "cell_type": "markdown",
      "source": [
        "# Method\n",
        "*How is the answer calculated?\n",
        "This section explains how the magical black boxes work that we will be using.*\n",
        "\n",
        "**Background**:\n",
        "*Optional section for math tools*\n",
        "\n",
        "**Mathematical Solution**: *Optional section for formal mathematical solution of how it will calculate the answer*\n",
        "\n",
        "**Algorithm**: *Optional section to explain how the formal solution is implemented.*\n",
        "\n"
      ],
      "metadata": {
        "id": "hnbc_uPkQ_S2"
      }
    },
    {
      "cell_type": "markdown",
      "source": [
        "# Implementation\n",
        "*This section shows how to actually use the numpy or scipy functions. Show the functions we need, what the parameters are, and how to use them.  Give links to documentation.*\n"
      ],
      "metadata": {
        "id": "PLwysZqbRScC"
      }
    },
    {
      "cell_type": "markdown",
      "source": [
        "# Examples"
      ],
      "metadata": {
        "id": "eRYJmFKQRc0J"
      }
    },
    {
      "cell_type": "markdown",
      "source": [
        "## Example 1 - (short description here)"
      ],
      "metadata": {
        "id": "zFcnn1NdFc31"
      }
    },
    {
      "cell_type": "code",
      "source": [],
      "metadata": {
        "id": "8tZwBL5fKaGj"
      },
      "execution_count": null,
      "outputs": []
    },
    {
      "cell_type": "markdown",
      "source": [
        "## Example 2 - (short description here)"
      ],
      "metadata": {
        "id": "LYm7VqxlFkX0"
      }
    },
    {
      "cell_type": "code",
      "source": [],
      "metadata": {
        "id": "9kQyLjpzFjxm"
      },
      "execution_count": null,
      "outputs": []
    },
    {
      "cell_type": "markdown",
      "source": [
        "# Common Errors\n",
        "*And how to fix them*"
      ],
      "metadata": {
        "id": "URiYECnSRgDQ"
      }
    },
    {
      "cell_type": "code",
      "source": [],
      "metadata": {
        "id": "CY11jnXBRbUQ"
      },
      "execution_count": null,
      "outputs": []
    },
    {
      "cell_type": "markdown",
      "source": [
        "# Links\n",
        "*Include links to more references like youtube, class github pages, wikipedia, etc.*\n",
        "\n",
        "\n"
      ],
      "metadata": {
        "id": "LaEu1w5OJoiy"
      }
    }
  ]
}