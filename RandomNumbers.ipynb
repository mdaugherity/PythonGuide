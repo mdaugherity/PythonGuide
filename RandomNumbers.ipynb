{
  "nbformat": 4,
  "nbformat_minor": 0,
  "metadata": {
    "colab": {
      "provenance": [],
      "authorship_tag": "ABX9TyMkuCiRFyLhtTNCXP4l3cZP",
      "include_colab_link": true
    },
    "kernelspec": {
      "name": "python3",
      "display_name": "Python 3"
    },
    "language_info": {
      "name": "python"
    }
  },
  "cells": [
    {
      "cell_type": "markdown",
      "metadata": {
        "id": "view-in-github",
        "colab_type": "text"
      },
      "source": [
        "<a href=\"https://colab.research.google.com/github/mdaugherity/PythonGuide/blob/Random-Numbers/RandomNumbers.ipynb\" target=\"_parent\"><img src=\"https://colab.research.google.com/assets/colab-badge.svg\" alt=\"Open In Colab\"/></a>"
      ]
    },
    {
      "cell_type": "markdown",
      "source": [
        "# **Random Numbers**\n",
        "Links\n",
        "\n",
        "*   Overview: https://numpy.org/doc/stable/reference/random/index.html\n",
        "*   Random Generator (rng): https://numpy.org/doc/stable/reference/random/generator.html#numpy.random.default_rng\n",
        "*   Integers: https://numpy.org/doc/stable/reference/random/generated/numpy.random.Generator.integers.html\n",
        "*   Normal Distribution: https://numpy.org/doc/stable/reference/random/generated/numpy.random.Generator.standard_normal.html#numpy.random.Generator.standard_normal\n",
        "\n"
      ],
      "metadata": {
        "id": "kWAH7Gl9QNLn"
      }
    },
    {
      "cell_type": "markdown",
      "source": [
        "# Short Problem Statement\n",
        "\n",
        "Want to generate random numbers? We can do random integers, random arrays, decimal points, or gaussian distributed numbers. Generating random numbers is great for making practice problems, testing code, or just for fun.\n",
        "\n"
      ],
      "metadata": {
        "id": "V4xlfIqNQXMf"
      }
    },
    {
      "cell_type": "markdown",
      "source": [
        "# Quick Copy-and-Paste Example"
      ],
      "metadata": {
        "id": "3nPbPK-1Q6Lw"
      }
    },
    {
      "cell_type": "code",
      "execution_count": 3,
      "metadata": {
        "id": "pJfobxlQwg8J",
        "colab": {
          "base_uri": "https://localhost:8080/"
        },
        "outputId": "d2d873b5-fe63-492e-adb3-f662cb693f4a"
      },
      "outputs": [
        {
          "output_type": "stream",
          "name": "stdout",
          "text": [
            "[[4 2 2 5]\n",
            " [3 8 3 1]\n",
            " [5 8 6 2]\n",
            " [1 5 4 8]\n",
            " [4 6 4 5]]\n"
          ]
        }
      ],
      "source": [
        "import numpy as np\n",
        "import numpy.random as npr\n",
        "rng = npr.default_rng()\n",
        "\n",
        "#Generate a random nxm matrix of single digit integers\n",
        "n = 5 #rows\n",
        "m = 4 #colums\n",
        "low = 1 #lower bound, included\n",
        "high = 10 #upper bound, excluded\n",
        "a = rng.integers(low,high,size=(n,m))\n",
        "print(a)"
      ]
    },
    {
      "cell_type": "markdown",
      "source": [
        "# Pseudo Random Seeds"
      ],
      "metadata": {
        "id": "PLwysZqbRScC"
      }
    },
    {
      "cell_type": "markdown",
      "source": [
        "The Random Number Generators,RNGs, are deterministic sequences and can be reproduced by specifying a seed integer to derive its initial state.\n",
        "\n",
        "By default, with no seed provided, default_rng will seed the RNG from nondeterministic data from the operating system and therefore generate different numbers each time."
      ],
      "metadata": {
        "id": "W3Dk04qO6N8X"
      }
    },
    {
      "cell_type": "code",
      "source": [
        "rng1=np.random.default_rng()\n",
        "rng2=np.random.default_rng()\n",
        "print(rng1.random())\n",
        "print(rng1.random())\n",
        "print(rng2.random())"
      ],
      "metadata": {
        "colab": {
          "base_uri": "https://localhost:8080/"
        },
        "id": "rFjN9slu6SUI",
        "outputId": "e2e6ce61-cb38-422e-9a42-8a71f70ceaf6"
      },
      "execution_count": 5,
      "outputs": [
        {
          "output_type": "stream",
          "name": "stdout",
          "text": [
            "0.8092088886563737\n",
            "0.558513959044702\n",
            "0.5815928182435651\n"
          ]
        }
      ]
    },
    {
      "cell_type": "markdown",
      "source": [
        "When a seed is explicitly provided, it initializes the PRNG to a specific state. This allows for reproducibility, which is crucial in scenarios like debugging, simulations, or testing.\n",
        "\n",
        "The pseudo-random sequences will be independent for all practical purposes. Seeds should be large positive integers. default_rng can take positive integers of any size."
      ],
      "metadata": {
        "id": "BPS3UYT-6Tgz"
      }
    },
    {
      "cell_type": "code",
      "source": [
        "rng1 = np.random.default_rng(12345)\n",
        "rng2 = np.random.default_rng(12345)\n",
        "print(rng1.random())\n",
        "print(rng2.random())"
      ],
      "metadata": {
        "colab": {
          "base_uri": "https://localhost:8080/"
        },
        "id": "r7NPJ6bM5fZR",
        "outputId": "987e90d9-207a-45de-8e77-ddbb773de12f"
      },
      "execution_count": 198,
      "outputs": [
        {
          "output_type": "stream",
          "name": "stdout",
          "text": [
            "0.22733602246716966\n",
            "0.22733602246716966\n"
          ]
        }
      ]
    },
    {
      "cell_type": "markdown",
      "source": [
        "Its recommended to use very large, unique numbers to ensure that your seed is different from anyone else’s. This is good practice to ensure that your results are statistically independent from theirs unless you are intentionally trying to reproduce their result.\n",
        "\n",
        "A convenient way to get such a seed number is to use secrets.randbits to get an arbitrary 128-bit integer."
      ],
      "metadata": {
        "id": "zz9SvJ2V6akg"
      }
    },
    {
      "cell_type": "code",
      "source": [
        "import secrets\n",
        "b = secrets.randbits(128)  # may vary\n",
        "print('seed =',b)\n",
        "\n",
        "rng1 = np.random.default_rng(b)\n",
        "print(rng1.random(2))\n",
        "\n",
        "rng2 = np.random.default_rng(b)\n",
        "print(rng2.random(2))"
      ],
      "metadata": {
        "colab": {
          "base_uri": "https://localhost:8080/"
        },
        "id": "exnZeYpL6bZ-",
        "outputId": "ad473c5d-8330-4939-b071-9c2f3b68f77c"
      },
      "execution_count": 205,
      "outputs": [
        {
          "output_type": "stream",
          "name": "stdout",
          "text": [
            "seed = 113080083889546716434958209497535209690\n",
            "[0.48162987 0.56743209]\n",
            "[0.48162987 0.56743209]\n"
          ]
        }
      ]
    },
    {
      "cell_type": "markdown",
      "source": [
        "It's important to note that PRNGs, are not truly random. If someone knows the algorithm and the seed, they can reproduce or predict the sequence. Therefore, they may not be suitable for security-critical purposes, like generating cryptographic keys, where true randomness is required."
      ],
      "metadata": {
        "id": "o40izj8Y8yoE"
      }
    },
    {
      "cell_type": "markdown",
      "source": [
        "#Gaussian Distribution\n",
        "\n",
        "A Gaussian Distribution, also known as a Normal Distribution, is a probability distribution that is symmetric about the mean, showing that data near the mean are more frequent in occurrence than data far from the mean.\n",
        "\n",
        "In a standard normal distribution, the mean is zero and the standard deviation is 1. All normal distributions are symmetrical, but not all symmetrical distributions are normal. The graph of a normal distribution takes the shape of a bell curve, which is seen below.\n"
      ],
      "metadata": {
        "id": "VEjFt_gHfR8m"
      }
    },
    {
      "cell_type": "code",
      "source": [
        "# @title\n",
        "import matplotlib.pyplot as plt\n",
        "def gaussian(x):\n",
        "  return np.exp(-(x**2)/2)\n",
        "x = np.linspace(-5,5,500)\n",
        "y = gaussian(x)\n",
        "plt.plot(x,y)\n",
        "plt.grid()\n",
        "plt.show()"
      ],
      "metadata": {
        "colab": {
          "base_uri": "https://localhost:8080/",
          "height": 430
        },
        "cellView": "form",
        "id": "vHGmbJlCiN9E",
        "outputId": "505b7aa8-df6f-4f13-ed29-d2a4d5532b60"
      },
      "execution_count": 6,
      "outputs": [
        {
          "output_type": "display_data",
          "data": {
            "text/plain": [
              "<Figure size 640x480 with 1 Axes>"
            ],
            "image/png": "[encoded data removed]"
          },
          "metadata": {}
        }
      ]
    },
    {
      "cell_type": "markdown",
      "source": [
        "Gaussian Distributions are very important in probability theory and statistics.\n",
        "\n",
        "For more reading, follow this link:\n",
        "https://en.wikipedia.org/wiki/Normal_distribution"
      ],
      "metadata": {
        "id": "3gzjJE9NlMQ3"
      }
    },
    {
      "cell_type": "markdown",
      "source": [
        "# Examples"
      ],
      "metadata": {
        "id": "eRYJmFKQRc0J"
      }
    },
    {
      "cell_type": "markdown",
      "source": [
        "##Random Numbers [0,1)"
      ],
      "metadata": {
        "id": "zFcnn1NdFc31"
      }
    },
    {
      "cell_type": "code",
      "source": [
        "value = rng.random() #single random float\n",
        "print(f'A random number from [0,1) is {value}')"
      ],
      "metadata": {
        "id": "8tZwBL5fKaGj",
        "colab": {
          "base_uri": "https://localhost:8080/"
        },
        "outputId": "a302cc95-fe19-4da4-e21d-aa5b863ff1f3"
      },
      "execution_count": null,
      "outputs": [
        {
          "output_type": "stream",
          "name": "stdout",
          "text": [
            "A random number from [0,1) is 0.5823165314827898\n"
          ]
        }
      ]
    },
    {
      "cell_type": "code",
      "source": [
        "n = 2 #number of rows\n",
        "m = 3 #number of colums\n",
        "array = rng.random(size=(n,m)) # n by m array of random floats\n",
        "print(f'A random {n}x{m} array with values from [0,1) is:')\n",
        "print(array)"
      ],
      "metadata": {
        "colab": {
          "base_uri": "https://localhost:8080/"
        },
        "id": "nALGVZVGsZLB",
        "outputId": "caacbc99-12a7-4597-c5f5-8540c202ecc7"
      },
      "execution_count": null,
      "outputs": [
        {
          "output_type": "stream",
          "name": "stdout",
          "text": [
            "A random 2x3 array with values from [0,1) is:\n",
            "[[0.52315883 0.32895753 0.5329318 ]\n",
            " [0.71520755 0.06363572 0.04098497]]\n"
          ]
        }
      ]
    },
    {
      "cell_type": "markdown",
      "source": [
        "##Random Integers from a Given Range"
      ],
      "metadata": {
        "id": "LYm7VqxlFkX0"
      }
    },
    {
      "cell_type": "markdown",
      "source": [
        "###Single Random Integer"
      ],
      "metadata": {
        "id": "sf8nLp7z1_Tl"
      }
    },
    {
      "cell_type": "code",
      "source": [
        "high = 7 #upper limit\n",
        "value = rng.integers(high) #single random integer, default lower limit of 0 and excluding upper limit\n",
        "print(f'A random integer from [0,{high}) is {value}.')"
      ],
      "metadata": {
        "id": "9kQyLjpzFjxm",
        "colab": {
          "base_uri": "https://localhost:8080/"
        },
        "outputId": "36807add-163a-4c99-c11d-fa68a8cc8985"
      },
      "execution_count": null,
      "outputs": [
        {
          "output_type": "stream",
          "name": "stdout",
          "text": [
            "A random integer from [0,7) is 4.\n"
          ]
        }
      ]
    },
    {
      "cell_type": "code",
      "source": [
        "low, high = 4, 7 #lower and upper limit\n",
        "value = rng.integers(low,high, endpoint=True) #single random integer, set lower limit and including upper limit\n",
        "print(f'A random integer from [{low},{high}] is {value}.')"
      ],
      "metadata": {
        "colab": {
          "base_uri": "https://localhost:8080/"
        },
        "id": "P3kEW68orezy",
        "outputId": "e0e7d8b7-84a3-4f31-aa57-c882c32a11a9"
      },
      "execution_count": null,
      "outputs": [
        {
          "output_type": "stream",
          "name": "stdout",
          "text": [
            "A random integer from [4,7] is 7.\n"
          ]
        }
      ]
    },
    {
      "cell_type": "markdown",
      "source": [
        "###Array of Random Integers"
      ],
      "metadata": {
        "id": "vLL4c0TF2Cqp"
      }
    },
    {
      "cell_type": "code",
      "source": [
        "n = 5 #number of integers\n",
        "low, high = -6, 3 #lower, upper limit\n",
        "array = rng.integers(low, high, n,endpoint=True) # n random integers, including upper limit\n",
        "print(f'A random 1x{n} array with values from [{low},{high}) is:')\n",
        "print(array)"
      ],
      "metadata": {
        "colab": {
          "base_uri": "https://localhost:8080/"
        },
        "id": "lH1QzkFM1iIH",
        "outputId": "1174d18a-944a-47bd-85bf-b3b2bc365be5"
      },
      "execution_count": null,
      "outputs": [
        {
          "output_type": "stream",
          "name": "stdout",
          "text": [
            "A random 1x5 array with values from [-6,3) is:\n",
            "[ 3 -5 -3  2  2]\n"
          ]
        }
      ]
    },
    {
      "cell_type": "code",
      "source": [
        "n,m = 3,3 #number of rows, columns\n",
        "low, high = -6, 3 #lower, upper limit\n",
        "array = rng.integers(low, high, size=(n,m)) # n by m array of random integers, excluding upper limit\n",
        "print(f'A random {n}x{m} array with values from [{low},{high}) is:')\n",
        "print(array)"
      ],
      "metadata": {
        "colab": {
          "base_uri": "https://localhost:8080/"
        },
        "id": "6cfycLmfrf7Q",
        "outputId": "33271572-ef51-41b5-b693-22d82243a804"
      },
      "execution_count": null,
      "outputs": [
        {
          "output_type": "stream",
          "name": "stdout",
          "text": [
            "A random 3x3 array with values from [-6,3) is:\n",
            "[[-5  2 -4]\n",
            " [-1  0  2]\n",
            " [ 1 -1  1]]\n"
          ]
        }
      ]
    },
    {
      "cell_type": "markdown",
      "source": [
        "##Standard Normal Distributions\n",
        "\n",
        "Mean = 0 and Standard Deviation = 1"
      ],
      "metadata": {
        "id": "cYAcZPXwzPHP"
      }
    },
    {
      "cell_type": "code",
      "source": [
        "rng.standard_normal() #single random number from a standard normal distribution"
      ],
      "metadata": {
        "colab": {
          "base_uri": "https://localhost:8080/"
        },
        "id": "69uRuCjkzS-t",
        "outputId": "56d44e58-d844-4e91-efce-787ea65cae68"
      },
      "execution_count": null,
      "outputs": [
        {
          "output_type": "execute_result",
          "data": {
            "text/plain": [
              "1.1461393209697146"
            ]
          },
          "metadata": {},
          "execution_count": 132
        }
      ]
    },
    {
      "cell_type": "code",
      "source": [
        "rng.standard_normal(4) #1x4 array random numbers from a standard normal distribution"
      ],
      "metadata": {
        "colab": {
          "base_uri": "https://localhost:8080/"
        },
        "id": "UGbqykkRzjjT",
        "outputId": "fbcf8809-ae75-48e3-e605-a9b99ef65617"
      },
      "execution_count": null,
      "outputs": [
        {
          "output_type": "execute_result",
          "data": {
            "text/plain": [
              "array([-0.95071848,  0.06253171,  0.9575858 , -0.24397056])"
            ]
          },
          "metadata": {},
          "execution_count": 159
        }
      ]
    },
    {
      "cell_type": "code",
      "source": [
        "rng.standard_normal((2,3)) #2x3 array random numbers from a standard normal distribution"
      ],
      "metadata": {
        "colab": {
          "base_uri": "https://localhost:8080/"
        },
        "id": "E1zaAnW5z3qE",
        "outputId": "719464a1-b1d3-4c39-89a8-586340f10c20"
      },
      "execution_count": null,
      "outputs": [
        {
          "output_type": "execute_result",
          "data": {
            "text/plain": [
              "array([[-0.41805789, -0.01938798, -0.29658727],\n",
              "       [ 0.05303371, -0.62589176, -0.17677497]])"
            ]
          },
          "metadata": {},
          "execution_count": 142
        }
      ]
    },
    {
      "cell_type": "markdown",
      "source": [
        "## Gaussian Distributed Random Numbers\n",
        "With a Given Mean and Standard Deviation"
      ],
      "metadata": {
        "id": "Bjwf_5QwC0nW"
      }
    },
    {
      "cell_type": "markdown",
      "source": [
        "###Method 1: rng.normal(mean, standard deviation, size = ...)"
      ],
      "metadata": {
        "id": "pfdjSClF0DHW"
      }
    },
    {
      "cell_type": "code",
      "source": [
        "mu = 32 #mean\n",
        "sd = 7 #standard deviation\n",
        "\n",
        "rng.normal(mu, sd) #single random number from a gaussian distribution"
      ],
      "metadata": {
        "id": "rQvN5pVWDnBR",
        "colab": {
          "base_uri": "https://localhost:8080/"
        },
        "outputId": "f794f75b-6fe3-4710-81b9-8afaa7212319"
      },
      "execution_count": null,
      "outputs": [
        {
          "output_type": "execute_result",
          "data": {
            "text/plain": [
              "27.353724502015847"
            ]
          },
          "metadata": {},
          "execution_count": 143
        }
      ]
    },
    {
      "cell_type": "code",
      "source": [
        "rng.normal(mu, sd, size=(2,3)) #2x3 array of random numbers from a gaussian distribution"
      ],
      "metadata": {
        "colab": {
          "base_uri": "https://localhost:8080/"
        },
        "id": "HHnBtav91HzW",
        "outputId": "0a85bda3-220e-4210-d892-89e9827f3524"
      },
      "execution_count": null,
      "outputs": [
        {
          "output_type": "execute_result",
          "data": {
            "text/plain": [
              "array([[35.09818496, 32.01577419, 30.28321524],\n",
              "       [29.75970245, 26.00346413, 33.23929144]])"
            ]
          },
          "metadata": {},
          "execution_count": 149
        }
      ]
    },
    {
      "cell_type": "markdown",
      "source": [
        "###Method 2: mu + sigma * rng.standard_normal(size=...)"
      ],
      "metadata": {
        "id": "CV0ApnnG0I94"
      }
    },
    {
      "cell_type": "code",
      "source": [
        "mu = 4\n",
        "sd = 3\n",
        "mu + sd * rng.standard_normal((2,3)) #single random number from a gaussian distribution"
      ],
      "metadata": {
        "colab": {
          "base_uri": "https://localhost:8080/"
        },
        "id": "cK8cewlP1KQM",
        "outputId": "0f8f3d96-ca21-4920-fddf-799bfc0e1074"
      },
      "execution_count": null,
      "outputs": [
        {
          "output_type": "execute_result",
          "data": {
            "text/plain": [
              "array([[ 3.26272097,  1.61086099, -0.15989544],\n",
              "       [ 1.11542604,  9.93778418,  2.91680652]])"
            ]
          },
          "metadata": {},
          "execution_count": 163
        }
      ]
    },
    {
      "cell_type": "code",
      "source": [
        "n = 24 #number of values\n",
        "s = mu + sd * rng.standard_normal(n) #n random numbers from a gaussian distribution\n",
        "print(s)"
      ],
      "metadata": {
        "colab": {
          "base_uri": "https://localhost:8080/"
        },
        "id": "oqzK7AXi2-3n",
        "outputId": "5ba91ca7-154e-45e8-abaf-9d084aaa0240"
      },
      "execution_count": null,
      "outputs": [
        {
          "output_type": "stream",
          "name": "stdout",
          "text": [
            "[-2.73140635  3.1330136   4.84874071 -0.11269904  1.38337608 -6.76728483\n",
            " -0.71370085  0.79900072  9.26589611  1.77396454  2.64202048  8.4548441\n",
            " -2.25539032  4.00519164  3.16986126  4.75810342 -4.63173587  5.08156952\n",
            " -0.35289801 -4.57499281 -2.22613669  0.86698734  2.04760326  4.27593763]\n"
          ]
        }
      ]
    },
    {
      "cell_type": "markdown",
      "source": [
        "###Plotting the Histogram of the Random Samples\n",
        "\n",
        "along with the probability desnity function"
      ],
      "metadata": {
        "id": "9tmXl86S3b7S"
      }
    },
    {
      "cell_type": "code",
      "source": [
        "mu = 1\n",
        "sd = 4\n",
        "s = rng.normal(mu, sd, 1000) #random sample of 1000 values\n",
        "\n",
        "import matplotlib.pyplot as plt\n",
        "count, bins, _ = plt.hist(s, 30, density=True)\n",
        "plt.plot(bins, 1/(sd * np.sqrt(2 * np.pi)) *\n",
        "               np.exp( - (bins - mu)**2 / (2 * sd**2) ),\n",
        "         linewidth=2, color='r')\n",
        "plt.show()"
      ],
      "metadata": {
        "colab": {
          "base_uri": "https://localhost:8080/",
          "height": 430
        },
        "id": "gj4G6UN-3vlE",
        "outputId": "6bf7826b-5a0e-4370-ae1d-00ba689fb771"
      },
      "execution_count": null,
      "outputs": [
        {
          "output_type": "display_data",
          "data": {
            "text/plain": [
              "<Figure size 640x480 with 1 Axes>"
            ],
            "image/png": "[encoded data removed]"
          },
          "metadata": {}
        }
      ]
    },
    {
      "cell_type": "markdown",
      "source": [
        "# Common Errors\n",
        "*And how to fix them*"
      ],
      "metadata": {
        "id": "URiYECnSRgDQ"
      }
    },
    {
      "cell_type": "markdown",
      "source": [
        "##1. Make sure your properly import your packages. You should include this code before you can access the Numpy Random Generator Library."
      ],
      "metadata": {
        "id": "JTUv9jyRqMmu"
      }
    },
    {
      "cell_type": "code",
      "source": [
        "rng.random()"
      ],
      "metadata": {
        "colab": {
          "base_uri": "https://localhost:8080/",
          "height": 147
        },
        "id": "5i2ROl2_49db",
        "outputId": "faf07acb-8694-4401-93cf-f172c9bf8407"
      },
      "execution_count": 1,
      "outputs": [
        {
          "output_type": "error",
          "ename": "NameError",
          "evalue": "name 'rng' is not defined",
          "traceback": [
            "\u001b[0;31m---------------------------------------------------------------------------\u001b[0m",
            "\u001b[0;31mNameError\u001b[0m                                 Traceback (most recent call last)",
            "\u001b[0;32m<ipython-input-1-543b988ad6b3>\u001b[0m in \u001b[0;36m<cell line: 1>\u001b[0;34m()\u001b[0m\n\u001b[0;32m----> 1\u001b[0;31m \u001b[0mrng\u001b[0m\u001b[0;34m.\u001b[0m\u001b[0mrandom\u001b[0m\u001b[0;34m(\u001b[0m\u001b[0;34m)\u001b[0m\u001b[0;34m\u001b[0m\u001b[0;34m\u001b[0m\u001b[0m\n\u001b[0m",
            "\u001b[0;31mNameError\u001b[0m: name 'rng' is not defined"
          ]
        }
      ]
    },
    {
      "cell_type": "code",
      "source": [
        "import numpy as np\n",
        "rng = np.random.default_rng()"
      ],
      "metadata": {
        "id": "CY11jnXBRbUQ"
      },
      "execution_count": null,
      "outputs": []
    },
    {
      "cell_type": "code",
      "source": [
        "rng.random()"
      ],
      "metadata": {
        "id": "_-uOHL3p5EH_",
        "outputId": "ccfd64b9-a50c-4dc6-d941-8c9aebb53948",
        "colab": {
          "base_uri": "https://localhost:8080/"
        }
      },
      "execution_count": null,
      "outputs": [
        {
          "output_type": "execute_result",
          "data": {
            "text/plain": [
              "0.22602354073080866"
            ]
          },
          "metadata": {},
          "execution_count": 190
        }
      ]
    },
    {
      "cell_type": "markdown",
      "source": [
        "##2. Endpoint is a boolian, you can only mark it as True or False. It defaults to false if endpoint is excluded."
      ],
      "metadata": {
        "id": "0JmEjKmTuA3w"
      }
    },
    {
      "cell_type": "code",
      "source": [
        " rng.integers(-10,10, endpoint=T)"
      ],
      "metadata": {
        "colab": {
          "base_uri": "https://localhost:8080/",
          "height": 147
        },
        "id": "vPM2rStxuAVM",
        "outputId": "39ad3839-fb8c-4e54-ad19-81020e6f13e0"
      },
      "execution_count": null,
      "outputs": [
        {
          "output_type": "error",
          "ename": "NameError",
          "evalue": "name 'T' is not defined",
          "traceback": [
            "\u001b[0;31m---------------------------------------------------------------------------\u001b[0m",
            "\u001b[0;31mNameError\u001b[0m                                 Traceback (most recent call last)",
            "\u001b[0;32m<ipython-input-103-4c1034ab247f>\u001b[0m in \u001b[0;36m<cell line: 1>\u001b[0;34m()\u001b[0m\n\u001b[0;32m----> 1\u001b[0;31m \u001b[0mrng\u001b[0m\u001b[0;34m.\u001b[0m\u001b[0mintegers\u001b[0m\u001b[0;34m(\u001b[0m\u001b[0;34m-\u001b[0m\u001b[0;36m10\u001b[0m\u001b[0;34m,\u001b[0m\u001b[0;36m10\u001b[0m\u001b[0;34m,\u001b[0m \u001b[0mendpoint\u001b[0m\u001b[0;34m=\u001b[0m\u001b[0mT\u001b[0m\u001b[0;34m)\u001b[0m\u001b[0;34m\u001b[0m\u001b[0;34m\u001b[0m\u001b[0m\n\u001b[0m",
            "\u001b[0;31mNameError\u001b[0m: name 'T' is not defined"
          ]
        }
      ]
    },
    {
      "cell_type": "code",
      "source": [
        " rng.integers(-10,10, endpoint=True)"
      ],
      "metadata": {
        "colab": {
          "base_uri": "https://localhost:8080/"
        },
        "id": "_rT43eJuudbw",
        "outputId": "e3ad24f4-8f66-4efe-ea43-4a9ce12359f9"
      },
      "execution_count": null,
      "outputs": [
        {
          "output_type": "execute_result",
          "data": {
            "text/plain": [
              "-7"
            ]
          },
          "metadata": {},
          "execution_count": 104
        }
      ]
    },
    {
      "cell_type": "markdown",
      "source": [
        "##3. rng.integers requires an upper limit, unlike rng.random which has set limits"
      ],
      "metadata": {
        "id": "joO7INOQuorP"
      }
    },
    {
      "cell_type": "code",
      "source": [
        "rng.integers(size=(2,3))"
      ],
      "metadata": {
        "colab": {
          "base_uri": "https://localhost:8080/",
          "height": 183
        },
        "id": "-xfFJb1Xvrbt",
        "outputId": "4d84b8bd-d1a2-4dbd-fe53-168bf45bdbb9"
      },
      "execution_count": null,
      "outputs": [
        {
          "output_type": "error",
          "ename": "TypeError",
          "evalue": "integers() takes at least 1 positional argument (0 given)",
          "traceback": [
            "\u001b[0;31m---------------------------------------------------------------------------\u001b[0m",
            "\u001b[0;31mTypeError\u001b[0m                                 Traceback (most recent call last)",
            "\u001b[0;32m<ipython-input-123-67861fbe2a82>\u001b[0m in \u001b[0;36m<cell line: 1>\u001b[0;34m()\u001b[0m\n\u001b[0;32m----> 1\u001b[0;31m \u001b[0mrng\u001b[0m\u001b[0;34m.\u001b[0m\u001b[0mintegers\u001b[0m\u001b[0;34m(\u001b[0m\u001b[0msize\u001b[0m\u001b[0;34m=\u001b[0m\u001b[0;34m(\u001b[0m\u001b[0;36m2\u001b[0m\u001b[0;34m,\u001b[0m\u001b[0;36m3\u001b[0m\u001b[0;34m)\u001b[0m\u001b[0;34m)\u001b[0m\u001b[0;34m\u001b[0m\u001b[0;34m\u001b[0m\u001b[0m\n\u001b[0m",
            "\u001b[0;32mnumpy/random/_generator.pyx\u001b[0m in \u001b[0;36mnumpy.random._generator.Generator.integers\u001b[0;34m()\u001b[0m\n",
            "\u001b[0;31mTypeError\u001b[0m: integers() takes at least 1 positional argument (0 given)"
          ]
        }
      ]
    },
    {
      "cell_type": "code",
      "source": [
        "rng.integers(5,size=(2,3))"
      ],
      "metadata": {
        "colab": {
          "base_uri": "https://localhost:8080/"
        },
        "id": "nOsZ5l6zwmVB",
        "outputId": "a7b8da03-1a6b-4565-c4b1-f18238f000a5"
      },
      "execution_count": null,
      "outputs": [
        {
          "output_type": "execute_result",
          "data": {
            "text/plain": [
              "array([[4, 1, 0],\n",
              "       [0, 1, 0]])"
            ]
          },
          "metadata": {},
          "execution_count": 124
        }
      ]
    },
    {
      "cell_type": "markdown",
      "source": [
        "##4. For standard normal and gaussian distributions, the standard distribution can not be negative."
      ],
      "metadata": {
        "id": "pKxSFkHE0ne7"
      }
    },
    {
      "cell_type": "code",
      "source": [
        "rng.normal(-4,-2)"
      ],
      "metadata": {
        "colab": {
          "base_uri": "https://localhost:8080/",
          "height": 256
        },
        "id": "HOU7g17M0zX9",
        "outputId": "2c7c29b2-ff94-47cb-9061-5bd0c5a7a819"
      },
      "execution_count": null,
      "outputs": [
        {
          "output_type": "error",
          "ename": "ValueError",
          "evalue": "scale < 0",
          "traceback": [
            "\u001b[0;31m---------------------------------------------------------------------------\u001b[0m",
            "\u001b[0;31mValueError\u001b[0m                                Traceback (most recent call last)",
            "\u001b[0;32m<ipython-input-147-523a1323df10>\u001b[0m in \u001b[0;36m<cell line: 1>\u001b[0;34m()\u001b[0m\n\u001b[0;32m----> 1\u001b[0;31m \u001b[0mrng\u001b[0m\u001b[0;34m.\u001b[0m\u001b[0mnormal\u001b[0m\u001b[0;34m(\u001b[0m\u001b[0;34m-\u001b[0m\u001b[0;36m4\u001b[0m\u001b[0;34m,\u001b[0m\u001b[0;34m-\u001b[0m\u001b[0;36m2\u001b[0m\u001b[0;34m)\u001b[0m\u001b[0;34m\u001b[0m\u001b[0;34m\u001b[0m\u001b[0m\n\u001b[0m",
            "\u001b[0;32mnumpy/random/_generator.pyx\u001b[0m in \u001b[0;36mnumpy.random._generator.Generator.normal\u001b[0;34m()\u001b[0m\n",
            "\u001b[0;32m_common.pyx\u001b[0m in \u001b[0;36mnumpy.random._common.cont\u001b[0;34m()\u001b[0m\n",
            "\u001b[0;32m_common.pyx\u001b[0m in \u001b[0;36mnumpy.random._common.check_constraint\u001b[0;34m()\u001b[0m\n",
            "\u001b[0;31mValueError\u001b[0m: scale < 0"
          ]
        }
      ]
    },
    {
      "cell_type": "code",
      "source": [
        "rng.normal(-4,2)"
      ],
      "metadata": {
        "colab": {
          "base_uri": "https://localhost:8080/"
        },
        "id": "QBjhL2Km03_g",
        "outputId": "272f10a8-10b1-40c6-f490-1071007d8311"
      },
      "execution_count": null,
      "outputs": [
        {
          "output_type": "execute_result",
          "data": {
            "text/plain": [
              "-6.5196897365629685"
            ]
          },
          "metadata": {},
          "execution_count": 148
        }
      ]
    }
  ]
}