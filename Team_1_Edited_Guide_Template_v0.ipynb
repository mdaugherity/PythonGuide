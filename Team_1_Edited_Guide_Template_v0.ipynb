{
  "nbformat": 4,
  "nbformat_minor": 0,
  "metadata": {
    "colab": {
      "provenance": [],
      "include_colab_link": true
    },
    "kernelspec": {
      "name": "python3",
      "display_name": "Python 3"
    },
    "language_info": {
      "name": "python"
    }
  },
  "cells": [
    {
      "cell_type": "markdown",
      "metadata": {
        "id": "view-in-github",
        "colab_type": "text"
      },
      "source": [
        "<a href=\"https://colab.research.google.com/github/mdaugherity/PythonGuide/blob/master/Team_1_Edited_Guide_Template_v0.ipynb\" target=\"_parent\"><img src=\"https://colab.research.google.com/assets/colab-badge.svg\" alt=\"Open In Colab\"/></a>"
      ]
    },
    {
      "cell_type": "markdown",
      "source": [
        "#Solving Linear Systems of Equations Using Python\n",
        "Given an N by N system of linear equations, you can use python to find the solutions to the system."
      ],
      "metadata": {
        "id": "hliou1avvY8t"
      }
    },
    {
      "cell_type": "markdown",
      "source": [
        "# Copy-and-Paste Code\n",
        "In case you don't want to bother with the details."
      ],
      "metadata": {
        "id": "3nPbPK-1Q6Lw"
      }
    },
    {
      "cell_type": "code",
      "source": [
        "#Python requires you to import certain libraries of code to run commands\n",
        "import numpy as np"
      ],
      "metadata": {
        "id": "W50Yg36wH3kl"
      },
      "execution_count": null,
      "outputs": []
    },
    {
      "cell_type": "code",
      "source": [
        "A = np.array([[]]) #Put your coefficient matrix in here\n",
        "B = np.array([[]]) #Put your solutions in here\n",
        "Solutions = np.linalg.solve(A,B)\n",
        "print(Solutions)"
      ],
      "metadata": {
        "id": "J1WX2DX6H77U"
      },
      "execution_count": null,
      "outputs": []
    },
    {
      "cell_type": "markdown",
      "source": [
        "#Intro to Solving Systems of Linear Equations\n",
        "\n",
        "In your high school algebra class, you solved what are known as **systems of linear equations**. You probably dealt with systems that took the form:\n",
        "\n",
        "$ax+by = c$\n",
        "\n",
        "$dx+ey = f$\n",
        "\n",
        "Remember that to solve this, you need to find values for x and y such that both equations are satisfied. Consider the following system:\n",
        "\n",
        "$x+y = 2$\n",
        "\n",
        "$2x+3y=5$\n",
        "\n",
        "To find x and y, try to eliminate one of the variables by summing the equations together. Notice that if you multiply the first equation by negative two and then add it to the second equation:\n",
        "\n",
        "$-2(x+y = 2)$\n",
        "\n",
        "$+(2x+3y=5)$\n",
        "\n",
        "$\\rightarrow y=1$\n",
        "\n",
        "Substituting into the first equation gives:\n",
        "\n",
        "$x=1$\n",
        "\n",
        "So, the solution to the system is:\n",
        "\n",
        "$x=1, y=1$\n",
        "\n",
        "As you can see, systems of linear equations with only two unkowns are not too hard to solve. However, the problem becomes more difficult when there are three, four, or even five unknown variables. You can evaluate these systems by hand, but it is quite tedious (don't worry, you'll get plenty of experience doing this when you take Linear Algebra). Instead, we are going to use python to solve these systems.\n",
        "\n",
        "\n"
      ],
      "metadata": {
        "id": "GyVBSDMeUr9X"
      }
    },
    {
      "cell_type": "markdown",
      "source": [
        "#A Little Detour Into Matrices\n",
        "\n",
        "A matrix is an n by m array of numbers, where n is the number of rows and m is the number of columns:\n",
        "\n",
        "\\begin{bmatrix}\n",
        "a_{11} & a_{12} & \\cdots & a_{1m} \\\\\n",
        "a_{21} & a_{22} & \\cdots & a_{2m} \\\\\n",
        "\\vdots & \\vdots & \\ddots & \\vdots \\\\\n",
        "a_{n1} & a_{n2} & \\cdots & a_{nm}\n",
        "\\end{bmatrix}\n",
        "\n",
        "For example, a 2 by 3 matrix would take the following form:\n",
        "\n",
        "\\begin{bmatrix}\n",
        "a & b & c \\\\\n",
        "d & e & f\n",
        "\\end{bmatrix}\n",
        "\n",
        "There are many useful things you can do with matrices (again, you'll learn all about them in Linear Algebra), one of which is write systems of linear equations in terms of matrices. Consider a system of equations with five unknown variables:\n",
        "\n",
        "\\begin{align*}\n",
        "a_{11}x_1 + a_{12}x_2 + a_{13}x_3 + a_{14}x_4 + a_{15}x_5 &= b_1 \\\\\n",
        "a_{21}x_1 + a_{22}x_2 + a_{23}x_3 + a_{24}x_4 + a_{25}x_5 &= b_2 \\\\\n",
        "a_{31}x_1 + a_{32}x_2 + a_{33}x_3 + a_{34}x_4 + a_{35}x_5 &= b_3 \\\\\n",
        "a_{41}x_1 + a_{42}x_2 + a_{43}x_3 + a_{44}x_4 + a_{45}x_5 &= b_4 \\\\\n",
        "a_{51}x_1 + a_{52}x_2 + a_{53}x_3 + a_{54}x_4 + a_{55}x_5 &= b_5\n",
        "\\end{align*}\n",
        "\n",
        "Disgusting, right? Matrices can be used to clean this up:\n",
        "\n",
        "\n",
        "$\\begin{align*}\\begin{bmatrix}\n",
        "a_{11} & a_{12} & a_{13} & a_{14} & a_{15} \\\\\n",
        "a_{21} & a_{22} & a_{23} & a_{24} & a_{25} \\\\\n",
        "a_{31} & a_{32} & a_{33} & a_{34} & a_{35} \\\\\n",
        "a_{41} & a_{42} & a_{43} & a_{44} & a_{45} \\\\\n",
        "a_{51} & a_{52} & a_{53} & a_{54} & a_{55}\n",
        "\\end{bmatrix}\\end{align*}$\n",
        "$\\begin{align*}\\begin{bmatrix}\n",
        "x_1 \\\\\n",
        "x_2 \\\\\n",
        "x_3 \\\\\n",
        "x_4 \\\\\n",
        "x_5\n",
        "\\end{bmatrix}\\end{align*}$\n",
        "=\n",
        "$\\begin{align*}\\begin{bmatrix}\n",
        "b_1 \\\\\n",
        "b_2 \\\\\n",
        "b_3 \\\\\n",
        "b_4 \\\\\n",
        "b_5\n",
        "\\end{bmatrix}\\end{align*}$\n",
        "\n",
        "Now it looks a little better. The coefficients and variables have been separated into their own matrices. The \"b\" constants have been put in their own matrix as well. We can solve systems of linear equations in this form using python.\n",
        "  "
      ],
      "metadata": {
        "id": "PiSjbZUicixu"
      }
    },
    {
      "cell_type": "markdown",
      "source": [
        "# Examples"
      ],
      "metadata": {
        "id": "eRYJmFKQRc0J"
      }
    },
    {
      "cell_type": "markdown",
      "source": [
        "\n",
        "\n",
        "Now that we have covered all the weird rules and types of matrices, we can actually solve some systems using the function np.linalg.solve()\n",
        "\n",
        "Unlike our other functions, we need to give np.linalg.solve two different matrices. One being the matrix of coefficients and the second being the matrix of our solutions. Let's remember what they are:\n",
        "\n",
        "\\begin{array}{cc}\n",
        "\\begin{bmatrix}\n",
        "{1} & {1} \\\\\n",
        "{2} & {3}\n",
        "\\end{bmatrix} &\n",
        "\\begin{bmatrix}\n",
        "{x} \\\\\n",
        "{y}\n",
        "\\end{bmatrix} & =\n",
        "\\begin{bmatrix}\n",
        "{2} \\\\\n",
        "{5}\n",
        "\\end{bmatrix}\n",
        "\\end{array}\n",
        "\n",
        "\n",
        "The first matrix are our coefficients, the second are for our variables (We don't need that one), and the third on the right side is our matrix of solutions."
      ],
      "metadata": {
        "id": "Lc3N5fyA0GtV"
      }
    },
    {
      "cell_type": "code",
      "source": [
        "#Define the Matrices:\n",
        "\n",
        "C = np.array([[1,1],    #Coefficient Matrix\n",
        "              [2,3]])\n",
        "\n",
        "Sol = np.array([[2],    #Solution Matrix\n",
        "                [5]])\n",
        "\n",
        "#To solve for our variables, we simply tell it our first matrix(C), then our second matrix(Sol)\n",
        "\n",
        "Final_Solution = np.linalg.solve(C,Sol) #This is the python command to solve a system. The first entry is the coefficient matrix. The second entry is the solution matrix.\n",
        "\n",
        "print(Final_Solution)"
      ],
      "metadata": {
        "id": "8tZwBL5fKaGj"
      },
      "execution_count": null,
      "outputs": []
    },
    {
      "cell_type": "markdown",
      "source": [
        "\n",
        "##Now let's do a harder problem:\n"
      ],
      "metadata": {
        "id": "Ig-PxLHDu6zH"
      }
    },
    {
      "cell_type": "markdown",
      "source": [
        "Say we were given the linear system for a difficult dynamics problem:\n",
        "\n",
        "\\begin{array}{cc}\n",
        "\\begin{bmatrix}\n",
        "c & 1 & 0 & 0 & 0 \\\\\n",
        "0 & s & 0 & 0 & 1 \\\\\n",
        "0 & 0 & 2s & 0 & 0 \\\\\n",
        "0 & -c & c & 1 & 0 \\\\\n",
        "0 & s & s & 0 & 0\n",
        "\\end{bmatrix}\n",
        "\\begin{bmatrix}\n",
        "{F1} \\\\\n",
        "{F2} \\\\\n",
        "{F3} \\\\\n",
        "{F4} \\\\\n",
        "{F5}\n",
        "\\end{bmatrix} =\n",
        "\\begin{bmatrix}\n",
        "{0} \\\\\n",
        "{0} \\\\\n",
        "{1} \\\\\n",
        "{0} \\\\\n",
        "{0}\n",
        "\\end{bmatrix}\n",
        "\\end{array}\n",
        "\n",
        "We are trying to solve for the five unknown forces in the matrix of variables (F1-5)\n",
        "\n",
        "We are also given the values of each of the variables\n",
        "\n",
        "$c=cos(\\theta)$\n",
        "\n",
        "$s=sin(\\theta)$\n",
        "\n",
        "$\\theta = 78^\\circ$"
      ],
      "metadata": {
        "id": "bYwT6RKNz9p-"
      }
    },
    {
      "cell_type": "code",
      "source": [
        "#First we need to define our variables before putting them into a matrix.\n",
        "\n",
        "theta = np.radians(78)  # The functions sine and cosine in python use values in terms of radians so we have to transer for degrees to radians.\n",
        "\n",
        "#Now lets define our variables\n",
        "c = np.cos(theta)\n",
        "s = np.sin(theta)\n",
        "\n",
        "#Now the fun part, the matrices!\n",
        "\n",
        "A = np.array([[c,1,0,0,0],\n",
        "              [0,s,0,0,1],\n",
        "              [0,0,2*s,0,0],\n",
        "              [0,-1*c,c,1,0],\n",
        "              [0,s,s,0,0]])\n",
        "\n",
        "B = np.array([[0],[0],[1],[0],[0]])\n",
        "\n",
        "# Here, A is our matrix of Coefficients and B is our matrix of the solutions we were given.\n",
        "\n",
        "# Now, we can ask python to solve this problem for us\n",
        "Force_Solutions = np.linalg.solve(A,B)\n",
        "print(\"\\n Here is our Matrix of Unknown Forces:\")\n",
        "print(Force_Solutions)"
      ],
      "metadata": {
        "id": "qkyqQyeStLGP"
      },
      "execution_count": null,
      "outputs": []
    },
    {
      "cell_type": "markdown",
      "source": [
        "Again, we need to pay attention to the format that the answer is in. We can relate it to our matrix of Forces:\n",
        "\\begin{array}{cc}\n",
        "\\begin{bmatrix}\n",
        "{F1} \\\\\n",
        "{F2} \\\\\n",
        "{F3} \\\\\n",
        "{F4} \\\\\n",
        "{F5}\n",
        "\\end{bmatrix} =\n",
        "\\begin{bmatrix}\n",
        "2.45859334 \\\\\n",
        "-0.5111703 \\\\\n",
        "0.5111703 \\\\\n",
        "-0.21255656 \\\\\n",
        "0.5\n",
        "\\end{bmatrix}\n",
        "\\end{array}\n",
        "\n",
        "and we see that the values of the forces line up really nicely with our matrix of forces"
      ],
      "metadata": {
        "id": "6ji36El4zD0N"
      }
    },
    {
      "cell_type": "markdown",
      "source": [
        "# Common Errors"
      ],
      "metadata": {
        "id": "URiYECnSRgDQ"
      }
    },
    {
      "cell_type": "markdown",
      "source": [
        "*   Don't forget to import numpy\n",
        "*   Don't forget to use np before array and other\n",
        "    commands.\n",
        "*   Arrays must be proper size.\n",
        "**  If A is a nxn matrix, b must be a 1xn matrix\n",
        "*   Don't forget asterick when multiplying.\n",
        "**  when multiplying any two elements, you must use an astreick.\n",
        "*   Check your bracketing and commas.\n",
        "** You must bracket after the parentheses when you have multiple rows. Do not put extra brackets for single row. Look at setup for an example."
      ],
      "metadata": {
        "id": "rAzfp3T9Pjrp"
      }
    },
    {
      "cell_type": "markdown",
      "source": [
        "Forgetting to import numpy. Nothing works without it."
      ],
      "metadata": {
        "id": "fwh8gjIHylGX"
      }
    },
    {
      "cell_type": "code",
      "source": [
        "import numpy as np #Don't forget this line of code"
      ],
      "metadata": {
        "id": "7utCL1LutAMJ"
      },
      "execution_count": null,
      "outputs": []
    },
    {
      "cell_type": "markdown",
      "source": [
        "Forgetting a comma. This can be very annoying to deal with."
      ],
      "metadata": {
        "id": "pnfjvl6_ytAY"
      }
    },
    {
      "cell_type": "code",
      "source": [
        "A = np.array([[1,1][2,3]]) #Forgot the comma between [1,1] and [2,3]\n",
        "B = np.array([[2],[5]])\n",
        "x = np.linalg.solve(A,B)\n",
        "print(x)"
      ],
      "metadata": {
        "colab": {
          "base_uri": "https://localhost:8080/",
          "height": 263
        },
        "id": "enmThHQkzLgf",
        "outputId": "3ac10250-bce6-4445-f250-42a6857be454"
      },
      "execution_count": null,
      "outputs": [
        {
          "output_type": "stream",
          "name": "stderr",
          "text": [
            "<>:1: SyntaxWarning: list indices must be integers or slices, not tuple; perhaps you missed a comma?\n",
            "<>:1: SyntaxWarning: list indices must be integers or slices, not tuple; perhaps you missed a comma?\n",
            "<ipython-input-5-f3a85c2c7107>:1: SyntaxWarning: list indices must be integers or slices, not tuple; perhaps you missed a comma?\n",
            "  A = np.array([[1,1][2,3]]) #Forgot the comma\n"
          ]
        },
        {
          "output_type": "error",
          "ename": "TypeError",
          "evalue": "list indices must be integers or slices, not tuple",
          "traceback": [
            "\u001b[0;31m---------------------------------------------------------------------------\u001b[0m",
            "\u001b[0;31mTypeError\u001b[0m                                 Traceback (most recent call last)",
            "\u001b[0;32m<ipython-input-5-f3a85c2c7107>\u001b[0m in \u001b[0;36m<cell line: 1>\u001b[0;34m()\u001b[0m\n\u001b[0;32m----> 1\u001b[0;31m \u001b[0mA\u001b[0m \u001b[0;34m=\u001b[0m \u001b[0mnp\u001b[0m\u001b[0;34m.\u001b[0m\u001b[0marray\u001b[0m\u001b[0;34m(\u001b[0m\u001b[0;34m[\u001b[0m\u001b[0;34m[\u001b[0m\u001b[0;36m1\u001b[0m\u001b[0;34m,\u001b[0m\u001b[0;36m1\u001b[0m\u001b[0;34m]\u001b[0m\u001b[0;34m[\u001b[0m\u001b[0;36m2\u001b[0m\u001b[0;34m,\u001b[0m\u001b[0;36m3\u001b[0m\u001b[0;34m]\u001b[0m\u001b[0;34m]\u001b[0m\u001b[0;34m)\u001b[0m \u001b[0;31m#Forgot the comma\u001b[0m\u001b[0;34m\u001b[0m\u001b[0;34m\u001b[0m\u001b[0m\n\u001b[0m\u001b[1;32m      2\u001b[0m \u001b[0mB\u001b[0m \u001b[0;34m=\u001b[0m \u001b[0mnp\u001b[0m\u001b[0;34m.\u001b[0m\u001b[0marray\u001b[0m\u001b[0;34m(\u001b[0m\u001b[0;34m[\u001b[0m\u001b[0;34m[\u001b[0m\u001b[0;36m2\u001b[0m\u001b[0;34m]\u001b[0m\u001b[0;34m,\u001b[0m\u001b[0;34m[\u001b[0m\u001b[0;36m5\u001b[0m\u001b[0;34m]\u001b[0m\u001b[0;34m]\u001b[0m\u001b[0;34m)\u001b[0m\u001b[0;34m\u001b[0m\u001b[0;34m\u001b[0m\u001b[0m\n\u001b[1;32m      3\u001b[0m \u001b[0mx\u001b[0m \u001b[0;34m=\u001b[0m \u001b[0mnp\u001b[0m\u001b[0;34m.\u001b[0m\u001b[0mlinalg\u001b[0m\u001b[0;34m.\u001b[0m\u001b[0msolve\u001b[0m\u001b[0;34m(\u001b[0m\u001b[0mA\u001b[0m\u001b[0;34m,\u001b[0m\u001b[0mB\u001b[0m\u001b[0;34m)\u001b[0m\u001b[0;34m\u001b[0m\u001b[0;34m\u001b[0m\u001b[0m\n\u001b[1;32m      4\u001b[0m \u001b[0mprint\u001b[0m\u001b[0;34m(\u001b[0m\u001b[0mx\u001b[0m\u001b[0;34m)\u001b[0m\u001b[0;34m\u001b[0m\u001b[0;34m\u001b[0m\u001b[0m\n",
            "\u001b[0;31mTypeError\u001b[0m: list indices must be integers or slices, not tuple"
          ]
        }
      ]
    },
    {
      "cell_type": "markdown",
      "source": [
        "If python cannot find a solution to your system, then it will throw an error message. Here is an example:"
      ],
      "metadata": {
        "id": "gfiU0aGzxYSY"
      }
    },
    {
      "cell_type": "code",
      "source": [
        "#Sometimes it helps to format your arrays so that it looks like the matrix.\n",
        "A = np.array([[2, 4, 6],\n",
        "              [4, 8, 12],\n",
        "              [1, 2, 3]])\n",
        "B = np.array([[1],\n",
        "              [2],\n",
        "              [0.5]])\n",
        "x = np.linalg.solve(A,B)\n",
        "print(x)"
      ],
      "metadata": {
        "colab": {
          "base_uri": "https://localhost:8080/",
          "height": 339
        },
        "id": "J0UiXzULt-xh",
        "outputId": "0130a78a-f6a4-45b5-f1eb-b12e6b9cb1ca"
      },
      "execution_count": null,
      "outputs": [
        {
          "output_type": "error",
          "ename": "LinAlgError",
          "evalue": "Singular matrix",
          "traceback": [
            "\u001b[0;31m---------------------------------------------------------------------------\u001b[0m",
            "\u001b[0;31mLinAlgError\u001b[0m                               Traceback (most recent call last)",
            "\u001b[0;32m<ipython-input-4-810f87c7576c>\u001b[0m in \u001b[0;36m<cell line: 7>\u001b[0;34m()\u001b[0m\n\u001b[1;32m      5\u001b[0m               \u001b[0;34m[\u001b[0m\u001b[0;36m2\u001b[0m\u001b[0;34m]\u001b[0m\u001b[0;34m,\u001b[0m\u001b[0;34m\u001b[0m\u001b[0;34m\u001b[0m\u001b[0m\n\u001b[1;32m      6\u001b[0m               [0.5]])\n\u001b[0;32m----> 7\u001b[0;31m \u001b[0mx\u001b[0m \u001b[0;34m=\u001b[0m \u001b[0mnp\u001b[0m\u001b[0;34m.\u001b[0m\u001b[0mlinalg\u001b[0m\u001b[0;34m.\u001b[0m\u001b[0msolve\u001b[0m\u001b[0;34m(\u001b[0m\u001b[0mA\u001b[0m\u001b[0;34m,\u001b[0m\u001b[0mB\u001b[0m\u001b[0;34m)\u001b[0m\u001b[0;34m\u001b[0m\u001b[0;34m\u001b[0m\u001b[0m\n\u001b[0m\u001b[1;32m      8\u001b[0m \u001b[0mprint\u001b[0m\u001b[0;34m(\u001b[0m\u001b[0mx\u001b[0m\u001b[0;34m)\u001b[0m\u001b[0;34m\u001b[0m\u001b[0;34m\u001b[0m\u001b[0m\n",
            "\u001b[0;32m/usr/local/lib/python3.10/dist-packages/numpy/linalg/linalg.py\u001b[0m in \u001b[0;36msolve\u001b[0;34m(a, b)\u001b[0m\n\u001b[1;32m    407\u001b[0m     \u001b[0msignature\u001b[0m \u001b[0;34m=\u001b[0m \u001b[0;34m'DD->D'\u001b[0m \u001b[0;32mif\u001b[0m \u001b[0misComplexType\u001b[0m\u001b[0;34m(\u001b[0m\u001b[0mt\u001b[0m\u001b[0;34m)\u001b[0m \u001b[0;32melse\u001b[0m \u001b[0;34m'dd->d'\u001b[0m\u001b[0;34m\u001b[0m\u001b[0;34m\u001b[0m\u001b[0m\n\u001b[1;32m    408\u001b[0m     \u001b[0mextobj\u001b[0m \u001b[0;34m=\u001b[0m \u001b[0mget_linalg_error_extobj\u001b[0m\u001b[0;34m(\u001b[0m\u001b[0m_raise_linalgerror_singular\u001b[0m\u001b[0;34m)\u001b[0m\u001b[0;34m\u001b[0m\u001b[0;34m\u001b[0m\u001b[0m\n\u001b[0;32m--> 409\u001b[0;31m     \u001b[0mr\u001b[0m \u001b[0;34m=\u001b[0m \u001b[0mgufunc\u001b[0m\u001b[0;34m(\u001b[0m\u001b[0ma\u001b[0m\u001b[0;34m,\u001b[0m \u001b[0mb\u001b[0m\u001b[0;34m,\u001b[0m \u001b[0msignature\u001b[0m\u001b[0;34m=\u001b[0m\u001b[0msignature\u001b[0m\u001b[0;34m,\u001b[0m \u001b[0mextobj\u001b[0m\u001b[0;34m=\u001b[0m\u001b[0mextobj\u001b[0m\u001b[0;34m)\u001b[0m\u001b[0;34m\u001b[0m\u001b[0;34m\u001b[0m\u001b[0m\n\u001b[0m\u001b[1;32m    410\u001b[0m \u001b[0;34m\u001b[0m\u001b[0m\n\u001b[1;32m    411\u001b[0m     \u001b[0;32mreturn\u001b[0m \u001b[0mwrap\u001b[0m\u001b[0;34m(\u001b[0m\u001b[0mr\u001b[0m\u001b[0;34m.\u001b[0m\u001b[0mastype\u001b[0m\u001b[0;34m(\u001b[0m\u001b[0mresult_t\u001b[0m\u001b[0;34m,\u001b[0m \u001b[0mcopy\u001b[0m\u001b[0;34m=\u001b[0m\u001b[0;32mFalse\u001b[0m\u001b[0;34m)\u001b[0m\u001b[0;34m)\u001b[0m\u001b[0;34m\u001b[0m\u001b[0;34m\u001b[0m\u001b[0m\n",
            "\u001b[0;32m/usr/local/lib/python3.10/dist-packages/numpy/linalg/linalg.py\u001b[0m in \u001b[0;36m_raise_linalgerror_singular\u001b[0;34m(err, flag)\u001b[0m\n\u001b[1;32m    110\u001b[0m \u001b[0;34m\u001b[0m\u001b[0m\n\u001b[1;32m    111\u001b[0m \u001b[0;32mdef\u001b[0m \u001b[0m_raise_linalgerror_singular\u001b[0m\u001b[0;34m(\u001b[0m\u001b[0merr\u001b[0m\u001b[0;34m,\u001b[0m \u001b[0mflag\u001b[0m\u001b[0;34m)\u001b[0m\u001b[0;34m:\u001b[0m\u001b[0;34m\u001b[0m\u001b[0;34m\u001b[0m\u001b[0m\n\u001b[0;32m--> 112\u001b[0;31m     \u001b[0;32mraise\u001b[0m \u001b[0mLinAlgError\u001b[0m\u001b[0;34m(\u001b[0m\u001b[0;34m\"Singular matrix\"\u001b[0m\u001b[0;34m)\u001b[0m\u001b[0;34m\u001b[0m\u001b[0;34m\u001b[0m\u001b[0m\n\u001b[0m\u001b[1;32m    113\u001b[0m \u001b[0;34m\u001b[0m\u001b[0m\n\u001b[1;32m    114\u001b[0m \u001b[0;32mdef\u001b[0m \u001b[0m_raise_linalgerror_nonposdef\u001b[0m\u001b[0;34m(\u001b[0m\u001b[0merr\u001b[0m\u001b[0;34m,\u001b[0m \u001b[0mflag\u001b[0m\u001b[0;34m)\u001b[0m\u001b[0;34m:\u001b[0m\u001b[0;34m\u001b[0m\u001b[0;34m\u001b[0m\u001b[0m\n",
            "\u001b[0;31mLinAlgError\u001b[0m: Singular matrix"
          ]
        }
      ]
    },
    {
      "cell_type": "markdown",
      "source": [
        "The \"Singular matrix\" error means that python could not find a solution to the linear system given. This can happen for a variety of reasons. If you get this error, you probably didn't type in anything wrong, but the system of equations that you entered in doesn't have a solution."
      ],
      "metadata": {
        "id": "K8a_LK6Ux-xP"
      }
    },
    {
      "cell_type": "markdown",
      "source": [
        "# Links\n",
        "Dr. Daugherity's Slides and Example Code: https://github.com/mdaugherity/Numerical2024/tree/main/linear\n",
        "\n",
        "The python official page with the documentation for the linalg command: https://numpy.org/doc/stable/reference/generated/numpy.linalg.solve.html\n"
      ],
      "metadata": {
        "id": "LaEu1w5OJoiy"
      }
    }
  ]
}