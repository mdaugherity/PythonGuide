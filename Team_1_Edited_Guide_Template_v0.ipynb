{
  "nbformat": 4,
  "nbformat_minor": 0,
  "metadata": {
    "colab": {
      "provenance": [],
      "include_colab_link": true
    },
    "kernelspec": {
      "name": "python3",
      "display_name": "Python 3"
    },
    "language_info": {
      "name": "python"
    }
  },
  "cells": [
    {
      "cell_type": "markdown",
      "metadata": {
        "id": "view-in-github",
        "colab_type": "text"
      },
      "source": [
        "<a href=\"https://colab.research.google.com/github/mdaugherity/PythonGuide/blob/master/Team_1_Edited_Guide_Template_v0.ipynb\" target=\"_parent\"><img src=\"https://colab.research.google.com/assets/colab-badge.svg\" alt=\"Open In Colab\"/></a>"
      ]
    },
    {
      "cell_type": "markdown",
      "source": [
        "**Guide Template v0**"
      ],
      "metadata": {
        "id": "kWAH7Gl9QNLn"
      }
    },
    {
      "cell_type": "markdown",
      "source": [
        "# Short Problem Statement\n",
        "What does this do?  What problems is it for?  \n",
        "(Links to related things)\n",
        "\n"
      ],
      "metadata": {
        "id": "V4xlfIqNQXMf"
      }
    },
    {
      "cell_type": "markdown",
      "source": [
        "# Quick Copy-and-Paste Example"
      ],
      "metadata": {
        "id": "3nPbPK-1Q6Lw"
      }
    },
    {
      "cell_type": "code",
      "source": [
        "import numpy as np\n",
        "import matplotlib.pyplot as plt"
      ],
      "metadata": {
        "id": "W50Yg36wH3kl"
      },
      "execution_count": null,
      "outputs": []
    },
    {
      "cell_type": "code",
      "source": [],
      "metadata": {
        "id": "J1WX2DX6H77U"
      },
      "execution_count": null,
      "outputs": []
    },
    {
      "cell_type": "markdown",
      "source": [
        "# Method\n",
        "How is the answer calculated?\n",
        "\n",
        "## Background\n",
        "Optional section for math tools\n",
        "\n",
        "## Mathematical Solution\n",
        "Formal solution\n",
        "\n",
        "## Algorithm\n",
        "How is the formal solution implemented?\n"
      ],
      "metadata": {
        "id": "hnbc_uPkQ_S2"
      }
    },
    {
      "cell_type": "markdown",
      "source": [
        "# Implementation\n",
        "Show the functions we need, what the parameters are, and how to use them.  Give links to documentation.\n"
      ],
      "metadata": {
        "id": "PLwysZqbRScC"
      }
    },
    {
      "cell_type": "markdown",
      "source": [
        "# Examples - Several"
      ],
      "metadata": {
        "id": "eRYJmFKQRc0J"
      }
    },
    {
      "cell_type": "code",
      "source": [],
      "metadata": {
        "id": "8tZwBL5fKaGj"
      },
      "execution_count": null,
      "outputs": []
    },
    {
      "cell_type": "markdown",
      "source": [
        "# Common Errors\n",
        "And how to fix them"
      ],
      "metadata": {
        "id": "URiYECnSRgDQ"
      }
    },
    {
      "cell_type": "code",
      "source": [],
      "metadata": {
        "id": "CY11jnXBRbUQ"
      },
      "execution_count": null,
      "outputs": []
    },
    {
      "cell_type": "markdown",
      "source": [
        "# Links\n",
        "Include links to more references like youtube, class github pages, wikipedia, etc.\n",
        "\n",
        "\n"
      ],
      "metadata": {
        "id": "LaEu1w5OJoiy"
      }
    }
  ]
}